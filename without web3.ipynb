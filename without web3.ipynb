{
 "cells": [
  {
   "cell_type": "markdown",
   "metadata": {},
   "source": [
    "# **TP Block Chain : Interaction avec le smart contract sans utiliser Web3**\n",
    "# **KARTOBI Sofiane**\n",
    "\n",
    "\n",
    "## Objectif : setter la valeur de greeting à travers la fonction setGreeting() sans faire à recours à Web3"
   ]
  },
  {
   "cell_type": "markdown",
   "metadata": {},
   "source": [
    "### Plan d'action : \n",
    "Afin de réaliser ce TP, nous devons passer par plusieurs étapes clées :\n",
    "- Tout d'abord on récupére le node RPC et on s'y connecte \n",
    "- Ensuite, on load la clé privée du compte MetaMask (jusqu'à présent rien de nouveau par rapport au devoir maison)\n",
    "- Puis, on doit construire la fonction qui va créer la transaction qui nous intéresse (faire appel à setGreeting en passant la nouvelle valeur en paramétre), la faire signé et enfin l'envoyer.\n",
    "- Afin d'envoyer la transaction, la fonction qu'on construira aura besoin de divers paramétres qu'on doit fixer, à savoir \n",
    "    - La data de la transaction (bytecode, aka le goulot de toute cette manipulation)\n",
    "    - Le nonce et gas price qu'on doit récupérer à travers des requêtes http en utilisant request et payload \n",
    "    - Le reste demeure similaire (adresse du compte from, gas limit, etc...)\n",
    "    "
   ]
  },
  {
   "cell_type": "markdown",
   "metadata": {},
   "source": [
    "### Etape 0 : Préparation et importation"
   ]
  },
  {
   "cell_type": "code",
   "execution_count": 1,
   "metadata": {},
   "outputs": [],
   "source": [
    "import requests\n",
    "import hashlib\n",
    "import json"
   ]
  },
  {
   "cell_type": "code",
   "execution_count": 2,
   "metadata": {},
   "outputs": [],
   "source": [
    "contract_address=\"0x80e70d63EeEBdF2ea4EfA53Ed84CD86398A14730\"\n",
    "wallet_address=\"0xada2E183e53E1DDe87D4b40f1f4C2877481a1Ca2\""
   ]
  },
  {
   "cell_type": "code",
   "execution_count": 3,
   "metadata": {},
   "outputs": [],
   "source": [
    "contract_abi = '''\n",
    "    [\n",
    "\t{\n",
    "\t\t\"inputs\": [\n",
    "\t\t\t{\n",
    "\t\t\t\t\"internalType\": \"string\",\n",
    "\t\t\t\t\"name\": \"_greeting\",\n",
    "\t\t\t\t\"type\": \"string\"\n",
    "\t\t\t}\n",
    "\t\t],\n",
    "\t\t\"name\": \"setGreeting\",\n",
    "\t\t\"outputs\": [],\n",
    "\t\t\"stateMutability\": \"nonpayable\",\n",
    "\t\t\"type\": \"function\"\n",
    "\t},\n",
    "\t{\n",
    "\t\t\"inputs\": [],\n",
    "\t\t\"stateMutability\": \"nonpayable\",\n",
    "\t\t\"type\": \"constructor\"\n",
    "\t},\n",
    "\t{\n",
    "\t\t\"inputs\": [],\n",
    "\t\t\"name\": \"greeting\",\n",
    "\t\t\"outputs\": [\n",
    "\t\t\t{\n",
    "\t\t\t\t\"internalType\": \"string\",\n",
    "\t\t\t\t\"name\": \"\",\n",
    "\t\t\t\t\"type\": \"string\"\n",
    "\t\t\t}\n",
    "\t\t],\n",
    "\t\t\"stateMutability\": \"view\",\n",
    "\t\t\"type\": \"function\"\n",
    "\t}\n",
    "]\n",
    "'''"
   ]
  },
  {
   "cell_type": "markdown",
   "metadata": {},
   "source": [
    "- Importation de la clé privée"
   ]
  },
  {
   "cell_type": "code",
   "execution_count": 4,
   "metadata": {},
   "outputs": [],
   "source": [
    "with open(\"MetaMaskPK.txt\", \"r\") as f:\n",
    "    private_key = f.read()"
   ]
  },
  {
   "cell_type": "markdown",
   "metadata": {},
   "source": [
    "### Etape 1 : Création de la fonction get_nonce() et get_gasPrice()"
   ]
  },
  {
   "cell_type": "markdown",
   "metadata": {},
   "source": [
    "- On définit le node rpc de la chainID 97\n",
    "- On fixe la méthode eth_getTransactionCount qui nous permettra d'avoir la valeur du nonce et eth_gasPrice qui nous aidera à avoir le prix du gaz actuellement\n",
    "- Ici je me suis aidé de Bard pour définir ces fonctions étant donné que je ne suis pas très familiarisé avec la librairie request "
   ]
  },
  {
   "cell_type": "code",
   "execution_count": 5,
   "metadata": {},
   "outputs": [],
   "source": [
    "rpc_node = \"https://data-seed-prebsc-1-s1.binance.org:8545/\"\n",
    "nonce_method = \"eth_getTransactionCount\"\n",
    "gasPrice_method =\"eth_gasPrice\""
   ]
  },
  {
   "cell_type": "markdown",
   "metadata": {},
   "source": [
    "#### Récupération du nonce "
   ]
  },
  {
   "cell_type": "code",
   "execution_count": 6,
   "metadata": {},
   "outputs": [],
   "source": [
    "def get_nonce(wallet_address): \n",
    "  \n",
    "\n",
    "  # Preparing the JSON-RPC payload\n",
    "  payload = {\n",
    "    \"jsonrpc\": \"2.0\",\n",
    "    \"method\": nonce_method,\n",
    "    \"params\": [wallet_address, \"latest\"],\n",
    "    \"id\": 1\n",
    "  }\n",
    "\n",
    "  # Send the request and extract the gas price\n",
    "  response = requests.post(rpc_node, json=payload)\n",
    "  data = response.json()\n",
    "\n",
    "  if response.status_code == 200:\n",
    "    nonce = int(response.json()['result'], 16) \n",
    "    return nonce\n",
    "  else:\n",
    "    print(\"Erreur lors de la récupération du nonce\")"
   ]
  },
  {
   "cell_type": "markdown",
   "metadata": {},
   "source": [
    "- On vérifie si elle est bien implémentée"
   ]
  },
  {
   "cell_type": "code",
   "execution_count": 7,
   "metadata": {},
   "outputs": [
    {
     "data": {
      "text/plain": [
       "11"
      ]
     },
     "execution_count": 7,
     "metadata": {},
     "output_type": "execute_result"
    }
   ],
   "source": [
    "Nonce = get_nonce(wallet_address=wallet_address)\n",
    "Nonce"
   ]
  },
  {
   "cell_type": "markdown",
   "metadata": {},
   "source": [
    "#### Récupération du gas Price :"
   ]
  },
  {
   "cell_type": "code",
   "execution_count": 8,
   "metadata": {},
   "outputs": [],
   "source": [
    "def get_gas_price():\n",
    "  \n",
    "  # Prepare the JSON-RPC payload\n",
    "  payload = {\n",
    "      \"jsonrpc\": \"2.0\",\n",
    "      \"method\": gasPrice_method,\n",
    "      \"params\": [],\n",
    "      \"id\": 1\n",
    "  }\n",
    "\n",
    "  # Send the request and extract the gas price\n",
    "  response = requests.post(rpc_node, json=payload)\n",
    "  data = response.json()\n",
    "\n",
    "  if response.status_code == 200:\n",
    "    gas_price = int(data[\"result\"], 16)\n",
    "    return gas_price\n",
    "  else:\n",
    "    raise Exception(f\"Error getting gas price: {data['error']['message']}\")\n"
   ]
  },
  {
   "cell_type": "markdown",
   "metadata": {},
   "source": [
    "- Vérification du prix "
   ]
  },
  {
   "cell_type": "code",
   "execution_count": 9,
   "metadata": {},
   "outputs": [
    {
     "name": "stdout",
     "output_type": "stream",
     "text": [
      "Gas Price: 5000000000 wei\n"
     ]
    }
   ],
   "source": [
    "gas_price = get_gas_price()\n",
    "\n",
    "print(f\"Gas Price: {gas_price} wei\")"
   ]
  },
  {
   "cell_type": "markdown",
   "metadata": {},
   "source": [
    "### Etape 2 : Conception du bytecode (data de la transaction)"
   ]
  },
  {
   "cell_type": "markdown",
   "metadata": {},
   "source": [
    "- Afin de mieux comprendre la structure du Bytecode de la data de la transaction, j'ai lancé un appel test de la fonction setGreetin() en utilisant Remix avec la valeur \"Sofiane\", par la suite j'ai visualisé  et analysé sur bscscan sa structure pour pouvoir comprendre comment concevoir le bytecode\n",
    "\n",
    "![Image](Capture.png)\n",
    "\n",
    "- Voici sa structure : \n",
    "\n",
    "![Image](Capture2.png)"
   ]
  },
  {
   "cell_type": "markdown",
   "metadata": {},
   "source": [
    "Input Data contient 4 parties : \n",
    "- MethodID : qui est le hash de la signature (prototype) de la fonction avec le keccak en hexadecimal\n",
    "- [0] : 64 digits (32 byte) comportant un offset et finissant par 20 (indiquant la taille du prochain input data element en hex donc 32 byte)\n",
    "- [1] : 32 byte avec un offset et à la fin 7 (ce dernier représente la taille de la chaine de chractere en hexadecimal) \n",
    "- [2] : 32 byte comportant au début la valeur de la chaine de charactére qui est encodée en hexadecimal et le reste est comblé avec des 0"
   ]
  },
  {
   "cell_type": "markdown",
   "metadata": {},
   "source": [
    "- Vérifions le hash de la signature de setGreeting(string) "
   ]
  },
  {
   "cell_type": "code",
   "execution_count": 10,
   "metadata": {},
   "outputs": [
    {
     "name": "stdout",
     "output_type": "stream",
     "text": [
      "la signature de la fonction : a4136862\n"
     ]
    }
   ],
   "source": [
    "from Crypto.Hash import keccak\n",
    "\n",
    "# la signature de la fonction à hacher\n",
    "string_to_hash = \"setGreeting(string)\"\n",
    "\n",
    "# Création de l'objet de hachage Keccak-256\n",
    "function_signature = keccak.new(digest_bits=256, data=string_to_hash.encode(\"utf-8\")).hexdigest()[:8]\n",
    "print(f\"la signature de la fonction : {function_signature}\")"
   ]
  },
  {
   "cell_type": "markdown",
   "metadata": {},
   "source": [
    "- Nice, ça a l'air d'être bon !\n",
    "- Vérifions le reste, la taille de \"Sofiane\" ainsi que son encodage en hexadecimal :"
   ]
  },
  {
   "cell_type": "code",
   "execution_count": 11,
   "metadata": {},
   "outputs": [
    {
     "name": "stdout",
     "output_type": "stream",
     "text": [
      "536f6669616e65\n",
      "0x7\n"
     ]
    }
   ],
   "source": [
    "string = \"Sofiane\"\n",
    "print(string.encode(\"utf-8\").hex())\n",
    "print(hex(len(string)))"
   ]
  },
  {
   "cell_type": "markdown",
   "metadata": {},
   "source": [
    "#### Perfect !\n",
    "\n",
    "- A présent, nous pouvons simuler cela pour envoyer notre transaction avec une nouvelle valeur \"Porsche\""
   ]
  },
  {
   "cell_type": "code",
   "execution_count": 12,
   "metadata": {},
   "outputs": [],
   "source": [
    "new_value = \"Porsche\""
   ]
  },
  {
   "cell_type": "markdown",
   "metadata": {},
   "source": [
    "- Le hashage de la signature et [0] ne vont pas changer \n",
    "- Tout ce qui changera est au niveau de [1] qui aura la nouvelle taille et [2] la nouvelle valeur encodé en hexadécimal"
   ]
  },
  {
   "cell_type": "markdown",
   "metadata": {},
   "source": [
    "#### Création du bytecode"
   ]
  },
  {
   "cell_type": "code",
   "execution_count": 13,
   "metadata": {},
   "outputs": [],
   "source": [
    "def create_greeting_bytecode(greeting):\n",
    " \n",
    "  next_input_size = int.to_bytes(32, 32, byteorder=\"big\").hex()\n",
    "  greeting_length = int.to_bytes(len(greeting.encode(\"utf-8\")), 32, byteorder=\"big\").hex()\n",
    "  greeting_hex = greeting.encode(\"utf-8\").hex()\n",
    "  while len(greeting_hex) < 64: \n",
    "    greeting_hex += '0'\n",
    "    \n",
    "  # Create the bytecode\n",
    "  bytecode = f\"0x{function_signature}{next_input_size}{greeting_length}{greeting_hex}\"\n",
    "  return bytecode"
   ]
  },
  {
   "cell_type": "markdown",
   "metadata": {},
   "source": [
    "- Let's check..."
   ]
  },
  {
   "cell_type": "code",
   "execution_count": 14,
   "metadata": {},
   "outputs": [
    {
     "name": "stdout",
     "output_type": "stream",
     "text": [
      "Bytecode: 0xa413686200000000000000000000000000000000000000000000000000000000000000200000000000000000000000000000000000000000000000000000000000000007506f727363686500000000000000000000000000000000000000000000000000\n"
     ]
    }
   ],
   "source": [
    "bytecode = create_greeting_bytecode(new_value)\n",
    "print(f\"Bytecode: {bytecode}\")"
   ]
  },
  {
   "cell_type": "code",
   "execution_count": 15,
   "metadata": {},
   "outputs": [
    {
     "data": {
      "text/plain": [
       "202"
      ]
     },
     "execution_count": 15,
     "metadata": {},
     "output_type": "execute_result"
    }
   ],
   "source": [
    "len(bytecode)"
   ]
  },
  {
   "cell_type": "markdown",
   "metadata": {},
   "source": [
    "### Etape 3 : Création et envoi de la transaction"
   ]
  },
  {
   "cell_type": "markdown",
   "metadata": {},
   "source": [
    "- On aura besoin d'installer eth-account pour se faire"
   ]
  },
  {
   "cell_type": "code",
   "execution_count": 16,
   "metadata": {},
   "outputs": [
    {
     "name": "stdout",
     "output_type": "stream",
     "text": [
      "Requirement already satisfied: eth-account in c:\\users\\sofiane\\appdata\\local\\programs\\python\\python311\\lib\\site-packages (0.10.0)\n",
      "Requirement already satisfied: bitarray>=2.4.0 in c:\\users\\sofiane\\appdata\\local\\programs\\python\\python311\\lib\\site-packages (from eth-account) (2.8.4)\n",
      "Requirement already satisfied: eth-abi>=4.0.0-b.2 in c:\\users\\sofiane\\appdata\\local\\programs\\python\\python311\\lib\\site-packages (from eth-account) (4.2.1)\n",
      "Requirement already satisfied: eth-keyfile>=0.6.0 in c:\\users\\sofiane\\appdata\\local\\programs\\python\\python311\\lib\\site-packages (from eth-account) (0.7.0)\n",
      "Requirement already satisfied: eth-keys>=0.4.0 in c:\\users\\sofiane\\appdata\\local\\programs\\python\\python311\\lib\\site-packages (from eth-account) (0.4.0)\n",
      "Requirement already satisfied: eth-rlp>=0.3.0 in c:\\users\\sofiane\\appdata\\local\\programs\\python\\python311\\lib\\site-packages (from eth-account) (1.0.0)\n",
      "Requirement already satisfied: eth-utils>=2.0.0 in c:\\users\\sofiane\\appdata\\local\\programs\\python\\python311\\lib\\site-packages (from eth-account) (2.3.1)\n",
      "Requirement already satisfied: hexbytes<0.4.0,>=0.1.0 in c:\\users\\sofiane\\appdata\\local\\programs\\python\\python311\\lib\\site-packages (from eth-account) (0.3.1)\n",
      "Requirement already satisfied: rlp>=1.0.0 in c:\\users\\sofiane\\appdata\\local\\programs\\python\\python311\\lib\\site-packages (from eth-account) (4.0.0)\n",
      "Requirement already satisfied: eth-typing>=3.0.0 in c:\\users\\sofiane\\appdata\\local\\programs\\python\\python311\\lib\\site-packages (from eth-abi>=4.0.0-b.2->eth-account) (3.5.2)\n",
      "Requirement already satisfied: parsimonious<0.10.0,>=0.9.0 in c:\\users\\sofiane\\appdata\\local\\programs\\python\\python311\\lib\\site-packages (from eth-abi>=4.0.0-b.2->eth-account) (0.9.0)\n",
      "Requirement already satisfied: pycryptodome<4,>=3.6.6 in c:\\users\\sofiane\\appdata\\local\\programs\\python\\python311\\lib\\site-packages (from eth-keyfile>=0.6.0->eth-account) (3.19.0)\n",
      "Requirement already satisfied: eth-hash>=0.3.1 in c:\\users\\sofiane\\appdata\\local\\programs\\python\\python311\\lib\\site-packages (from eth-utils>=2.0.0->eth-account) (0.5.2)\n",
      "Requirement already satisfied: cytoolz>=0.10.1 in c:\\users\\sofiane\\appdata\\local\\programs\\python\\python311\\lib\\site-packages (from eth-utils>=2.0.0->eth-account) (0.12.2)\n",
      "Requirement already satisfied: toolz>=0.8.0 in c:\\users\\sofiane\\appdata\\local\\programs\\python\\python311\\lib\\site-packages (from cytoolz>=0.10.1->eth-utils>=2.0.0->eth-account) (0.12.0)\n",
      "Requirement already satisfied: typing-extensions>=4.0.1 in c:\\users\\sofiane\\appdata\\local\\programs\\python\\python311\\lib\\site-packages (from eth-typing>=3.0.0->eth-abi>=4.0.0-b.2->eth-account) (4.8.0)\n",
      "Requirement already satisfied: regex>=2022.3.15 in c:\\users\\sofiane\\appdata\\local\\programs\\python\\python311\\lib\\site-packages (from parsimonious<0.10.0,>=0.9.0->eth-abi>=4.0.0-b.2->eth-account) (2023.10.3)\n"
     ]
    },
    {
     "name": "stderr",
     "output_type": "stream",
     "text": [
      "\n",
      "[notice] A new release of pip is available: 23.1.2 -> 23.3.1\n",
      "[notice] To update, run: python.exe -m pip install --upgrade pip\n"
     ]
    }
   ],
   "source": [
    "!pip install eth-account"
   ]
  },
  {
   "cell_type": "code",
   "execution_count": 17,
   "metadata": {},
   "outputs": [],
   "source": [
    "import eth_account"
   ]
  },
  {
   "cell_type": "code",
   "execution_count": 18,
   "metadata": {},
   "outputs": [
    {
     "data": {
      "text/plain": [
       "'0x80e70d63EeEBdF2ea4EfA53Ed84CD86398A14730'"
      ]
     },
     "execution_count": 18,
     "metadata": {},
     "output_type": "execute_result"
    }
   ],
   "source": [
    "contract_address"
   ]
  },
  {
   "cell_type": "markdown",
   "metadata": {},
   "source": [
    "- Conception de la transaction en utilisant les précédentes fonctions get_nonce() et get_gas_price()\n",
    "- On passe en argument le bytecode qu'on a conçu\n",
    "- Signature avec la clé privée\n",
    "- Convertion en hexadecimal"
   ]
  },
  {
   "cell_type": "code",
   "execution_count": 19,
   "metadata": {},
   "outputs": [],
   "source": [
    "transaction = {\n",
    "    'nonce': get_nonce(wallet_address=wallet_address),\n",
    "    'gasPrice': get_gas_price(),\n",
    "    'gas': 100000,\n",
    "    'to': contract_address,\n",
    "    'data': bytecode,\n",
    "}\n",
    "\n",
    "\n",
    "signed_transaction = eth_account.Account.sign_transaction(transaction, private_key=private_key)\n",
    "\n",
    "\n",
    "raw_transaction_hex = signed_transaction.rawTransaction.hex()"
   ]
  },
  {
   "cell_type": "markdown",
   "metadata": {},
   "source": [
    "- Ici on envoie la transaction signée en hex avec le même protocole à l'aide payload et request et à la fin on recoit le hash de la transaction"
   ]
  },
  {
   "cell_type": "code",
   "execution_count": 20,
   "metadata": {},
   "outputs": [
    {
     "name": "stdout",
     "output_type": "stream",
     "text": [
      "Transaction hash: 0xb3da6066813c3d5087eccaf4a26e4243f63ebf821954eb8c16128606a78be353\n"
     ]
    }
   ],
   "source": [
    "headers = {'Content-Type': 'application/json'}\n",
    "payload = {\n",
    "    'jsonrpc': '2.0',\n",
    "    'method': 'eth_sendRawTransaction',\n",
    "    'params': [raw_transaction_hex],\n",
    "    'id': 1,\n",
    "}\n",
    "\n",
    "response = requests.post(rpc_node, data=json.dumps(payload), headers=headers)\n",
    "transaction_hash = response.json()['result']\n",
    "print(f\"Transaction hash: {transaction_hash}\")"
   ]
  },
  {
   "cell_type": "code",
   "execution_count": 21,
   "metadata": {},
   "outputs": [
    {
     "data": {
      "text/plain": [
       "{'jsonrpc': '2.0',\n",
       " 'id': 1,\n",
       " 'result': '0xb3da6066813c3d5087eccaf4a26e4243f63ebf821954eb8c16128606a78be353'}"
      ]
     },
     "execution_count": 21,
     "metadata": {},
     "output_type": "execute_result"
    }
   ],
   "source": [
    "response.json()"
   ]
  },
  {
   "cell_type": "markdown",
   "metadata": {},
   "source": [
    "### Vérification en appelant greeting \n",
    "- On va appliquer le même principe pour vérifier la valeur de la variable, créer un nouveau bytecode spécifique à l'appel de la nouvelle fonction (qui cette fois n'a pas de paramètre)"
   ]
  },
  {
   "cell_type": "code",
   "execution_count": 22,
   "metadata": {},
   "outputs": [
    {
     "name": "stdout",
     "output_type": "stream",
     "text": [
      "Valeur actuelle de 'greeting': \u0000\u0000\u0000\u0000\u0000\u0000\u0000\u0000\u0000\u0000\u0000\u0000\u0000\u0000\u0000\u0000\u0000\u0000\u0000\u0000\u0000\u0000\u0000\u0000\u0000\u0000\u0000\u0000\u0000\u0000\u0000 \u0000\u0000\u0000\u0000\u0000\u0000\u0000\u0000\u0000\u0000\u0000\u0000\u0000\u0000\u0000\u0000\u0000\u0000\u0000\u0000\u0000\u0000\u0000\u0000\u0000\u0000\u0000\u0000\u0000\u0000\u0000\u0007Porsche\u0000\u0000\u0000\u0000\u0000\u0000\u0000\u0000\u0000\u0000\u0000\u0000\u0000\u0000\u0000\u0000\u0000\u0000\u0000\u0000\u0000\u0000\u0000\u0000\u0000\n"
     ]
    }
   ],
   "source": [
    "function_signature = \"greeting()\"\n",
    "\n",
    "\n",
    "function_signature_hash = keccak.new(digest_bits=256, data=function_signature.encode(\"utf-8\")).hexdigest()[:8]\n",
    "\n",
    "\n",
    "bytecode = \"0x\" + function_signature_hash \n",
    "\n",
    "# requête JSON-RPC \n",
    "payload = {\n",
    "    \"jsonrpc\": \"2.0\",\n",
    "    \"method\": \"eth_call\",\n",
    "    \"params\": [{\n",
    "        \"to\": contract_address,\n",
    "        \"data\": bytecode\n",
    "    }, \"latest\"],\n",
    "    \"id\": 1\n",
    "}\n",
    "\n",
    "# Envoi de la requête\n",
    "response = requests.post(rpc_node, json=payload)\n",
    "\n",
    "\n",
    "if response.status_code == 200:\n",
    "    r = response.json()['result']\n",
    "    greeting_value = bytes.fromhex(r[2:]).decode('utf-8')  # Convertir la réponse hexadécimale en chaîne de caractères\n",
    "    print(f\"Valeur actuelle de 'greeting': {greeting_value}\")\n",
    "else:\n",
    "    print(\"Erreur lors de la récupération de la valeur de 'greeting'\")\n"
   ]
  },
  {
   "cell_type": "markdown",
   "metadata": {},
   "source": [
    "- It's time to check si la valeur a bien changé...\n",
    "- Sur Remix :\n",
    "\n",
    "![Image](Capture3.png)\n",
    "\n",
    "- Sur bscscan, je check input data puis je clique sur \"Decode input data\" et on obtient : \n",
    "\n",
    "![Image](Capture6.png)\n",
    "![Image](Capture7.png)\n",
    "\n",
    "\n",
    "#### **IT FINALLY WORKED !** \n",
    "\n",
    "and yes I like Porsche ;)"
   ]
  },
  {
   "cell_type": "markdown",
   "metadata": {},
   "source": [
    "## **Problémes rencontrés :**\n",
    "- Après avoir tout implémenté, je me suis rendu sur bsc scan pour vérifier l'état de la transaction mais cette dernière ne passer pas, j'ai donc augmenter gas limit, puis j'ai vérifier mes bnb sur metamask, mais rien ne voulait changer. J'avais toujours cette keyError : 'result' ce qui signifiait que dans le json obtenu je n'avais pas de résultat et que donc il fallait creuser davantage.\n",
    "J'ai demandé à chatgpt, j'ai parcouru les forums sur stack exchange et reddit mais aucune piste n'était intéressante.\n",
    "- Sur Bsc Scan l'erreur semblait être liée à l'implementation du smart contract, hors il est basique et tout le monde avait le même, j'ai vraiement eu du mal à m'en sortir\n",
    "\n",
    "![Image](Capture5.png)\n",
    "\n",
    "![Image](Capture4.png)\n",
    "\n",
    "\n",
    "- Finalement, je me suis rendu compte que j'avais mal implémnté le bytecode et sa longeur totale était de  216 alors qu'il fallait qu'il soit sur 202, j'ai corrigé cela et la transaction est passé (après presque 2 heures de reflexion intense en recheckant ligne par ligne)\n",
    "- **Remarque :** en restrant puis run All une nouvelle transaction s'est crée mais la capture date de la 1ére réelle transaction passée"
   ]
  }
 ],
 "metadata": {
  "kernelspec": {
   "display_name": "base",
   "language": "python",
   "name": "python3"
  },
  "language_info": {
   "codemirror_mode": {
    "name": "ipython",
    "version": 3
   },
   "file_extension": ".py",
   "mimetype": "text/x-python",
   "name": "python",
   "nbconvert_exporter": "python",
   "pygments_lexer": "ipython3",
   "version": "3.11.4"
  }
 },
 "nbformat": 4,
 "nbformat_minor": 2
}
